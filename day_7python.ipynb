{
 "cells": [
  {
   "cell_type": "markdown",
   "id": "7bbf63c8",
   "metadata": {},
   "source": [
    "unconditional control structure\n",
    "\n",
    "break \n",
    "continue \n",
    "pass"
   ]
  },
  {
   "cell_type": "markdown",
   "id": "1bfb6a65",
   "metadata": {},
   "source": [
    "example of break\n",
    "print from 1 to 10 but till 5"
   ]
  },
  {
   "cell_type": "code",
   "execution_count": 1,
   "id": "2a052d0d",
   "metadata": {},
   "outputs": [
    {
     "name": "stdout",
     "output_type": "stream",
     "text": [
      "1\n",
      "2\n",
      "3\n",
      "4\n",
      "5\n"
     ]
    }
   ],
   "source": [
    "for i in range (1,11):\n",
    "    print(i)\n",
    "    if i %5==0:\n",
    "        break\n"
   ]
  },
  {
   "cell_type": "markdown",
   "id": "cfbbb37a",
   "metadata": {},
   "source": [
    "print odd numbers"
   ]
  },
  {
   "cell_type": "code",
   "execution_count": 2,
   "id": "678014da",
   "metadata": {},
   "outputs": [
    {
     "name": "stdout",
     "output_type": "stream",
     "text": [
      "1\n",
      "3\n",
      "5\n",
      "7\n",
      "9\n"
     ]
    }
   ],
   "source": [
    "for i in range(1,11):\n",
    "    if i%2==0:\n",
    "        continue\n",
    "    print(i)"
   ]
  },
  {
   "cell_type": "markdown",
   "id": "70a772db",
   "metadata": {},
   "source": [
    "example of pass statement"
   ]
  },
  {
   "cell_type": "code",
   "execution_count": 3,
   "id": "34526f2f",
   "metadata": {},
   "outputs": [
    {
     "name": "stdout",
     "output_type": "stream",
     "text": [
      "1\n",
      "2\n",
      "3\n",
      "4\n",
      "5\n",
      "6\n",
      "7\n",
      "8\n",
      "9\n",
      "10\n"
     ]
    }
   ],
   "source": [
    "for i in range(1,11):\n",
    "    if i%2==0:\n",
    "        pass\n",
    "    print(i)"
   ]
  },
  {
   "cell_type": "markdown",
   "id": "418c3e9a",
   "metadata": {},
   "source": [
    "write a program to check whether a number is prime or not"
   ]
  },
  {
   "cell_type": "code",
   "execution_count": 4,
   "id": "69734fe3",
   "metadata": {},
   "outputs": [
    {
     "name": "stdout",
     "output_type": "stream",
     "text": [
      "the number is not a prime number\n"
     ]
    }
   ],
   "source": [
    "a=int(input(\"enter your number to be checked :\"))\n",
    "count=0\n",
    "for i in range(2,a):\n",
    "    if a%i==0:\n",
    "        count =1\n",
    "        break\n",
    "if count==1:\n",
    "    print(\"the number is not a prime number\")\n",
    "else:\n",
    "    print(\"the number is a prime number\")"
   ]
  },
  {
   "cell_type": "markdown",
   "id": "0ee4d6b4",
   "metadata": {},
   "source": [
    "find a letter if its a vowel or a consonant"
   ]
  },
  {
   "cell_type": "code",
   "execution_count": 5,
   "id": "c6de8f76",
   "metadata": {},
   "outputs": [
    {
     "name": "stdout",
     "output_type": "stream",
     "text": [
      "e is a vowel\n",
      "end of program\n"
     ]
    }
   ],
   "source": [
    "vowels=\"AEIOUaeiou\"\n",
    "while True :\n",
    "    V = input(\"enter a letter :\")\n",
    "    if V in vowels:\n",
    "        print(V,\"is a vowel\")\n",
    "        break\n",
    "    else:\n",
    "        print(V,\"is not  a vowel, try another letter\")\n",
    "print(\"end of program\")"
   ]
  },
  {
   "cell_type": "markdown",
   "id": "5050815d",
   "metadata": {},
   "source": [
    "loop with condition at bottom\n",
    "program to mneu driven operation"
   ]
  },
  {
   "cell_type": "code",
   "execution_count": 8,
   "id": "bd81fc0f",
   "metadata": {},
   "outputs": [
    {
     "name": "stdout",
     "output_type": "stream",
     "text": [
      "menu:\n",
      "1)additon\n",
      "2)subtraction\n",
      "3)multiplication\n",
      "4)division\n",
      "5)exit\n",
      "\n",
      "enter a valid input\n",
      "menu:\n",
      "1)additon\n",
      "2)subtraction\n",
      "3)multiplication\n",
      "4)division\n",
      "5)exit\n",
      "\n",
      "end of program\n"
     ]
    }
   ],
   "source": [
    "choice=0\n",
    "a,b=6,7\n",
    "while choice!=5:\n",
    "    print(\"menu:\\n1)additon\\n2)subtraction\\n3)multiplication\\n4)division\\n5)exit\\n\")\n",
    "    choice= int(input(\"enter your choice:\"))\n",
    "\n",
    "    if choice==1:\n",
    "        print(\"sum=\",a+b)\n",
    "    elif choice==2:\n",
    "        print(\"difference=\",a-b)\n",
    "    elif choice==3:\n",
    "        print(\"product=\",a*b)\n",
    "    elif choice==4:\n",
    "        print(\"quotient=\",a/b)\n",
    "    elif choice==5:\n",
    "        print(\"end of program\")\n",
    "    else:\n",
    "        print(\"enter a valid input\")"
   ]
  },
  {
   "cell_type": "code",
   "execution_count": null,
   "id": "78c3129e",
   "metadata": {},
   "outputs": [],
   "source": []
  }
 ],
 "metadata": {
  "kernelspec": {
   "display_name": "Python 3",
   "language": "python",
   "name": "python3"
  },
  "language_info": {
   "codemirror_mode": {
    "name": "ipython",
    "version": 3
   },
   "file_extension": ".py",
   "mimetype": "text/x-python",
   "name": "python",
   "nbconvert_exporter": "python",
   "pygments_lexer": "ipython3",
   "version": "3.12.6"
  }
 },
 "nbformat": 4,
 "nbformat_minor": 5
}
