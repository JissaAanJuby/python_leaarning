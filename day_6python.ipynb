{
 "cells": [
  {
   "cell_type": "markdown",
   "id": "ffd52e46",
   "metadata": {},
   "source": [
    "reverse of a number"
   ]
  },
  {
   "cell_type": "code",
   "execution_count": 5,
   "id": "a70464d0",
   "metadata": {},
   "outputs": [
    {
     "name": "stdout",
     "output_type": "stream",
     "text": [
      "432\n"
     ]
    }
   ],
   "source": [
    "n = int(input(\"enter your number :\"))\n",
    "rev =0\n",
    "while n>0:\n",
    "    r= n%10\n",
    "    rev = rev*10+r\n",
    "    n=n//10\n",
    "print(rev)"
   ]
  },
  {
   "cell_type": "markdown",
   "id": "afd952ee",
   "metadata": {},
   "source": [
    "pallindrome"
   ]
  },
  {
   "cell_type": "code",
   "execution_count": 6,
   "id": "38f28587",
   "metadata": {},
   "outputs": [
    {
     "name": "stdout",
     "output_type": "stream",
     "text": [
      "the number is a pallindrome\n"
     ]
    }
   ],
   "source": [
    "n=int(input(\"enter your number:\"))\n",
    "d=n\n",
    "rev=0\n",
    "while n>0:\n",
    "    r= n%10\n",
    "    rev = rev*10+r\n",
    "    n=n//10\n",
    "if rev==d:\n",
    "    print(\"the number is a pallindrome\")\n",
    "else:\n",
    "    print(\"the input is not a pallindrome\")\n"
   ]
  },
  {
   "cell_type": "markdown",
   "id": "62020daa",
   "metadata": {},
   "source": [
    "while loop\n",
    "executes as long as the given condition is true\n",
    "acts like seperating if statements"
   ]
  },
  {
   "cell_type": "markdown",
   "id": "3505ad01",
   "metadata": {},
   "source": [
    "print multiplication table of any number"
   ]
  },
  {
   "cell_type": "code",
   "execution_count": 7,
   "id": "0ac298a8",
   "metadata": {},
   "outputs": [
    {
     "name": "stdout",
     "output_type": "stream",
     "text": [
      "the table is given below:\n",
      "1 x 3 = 3\n",
      "2 x 3 = 6\n",
      "3 x 3 = 9\n",
      "4 x 3 = 12\n",
      "5 x 3 = 15\n",
      "6 x 3 = 18\n",
      "7 x 3 = 21\n",
      "8 x 3 = 24\n",
      "9 x 3 = 27\n",
      "10 x 3 = 30\n"
     ]
    }
   ],
   "source": [
    "a=int(input(\"enter the table to be shown\"))\n",
    "print(\"the table is given below:\")\n",
    "for i in range(1,11):\n",
    "    print(i,\"x\",a,\"=\",i*a)\n",
    "    "
   ]
  },
  {
   "cell_type": "markdown",
   "id": "a3bf65d3",
   "metadata": {},
   "source": [
    "nested for loop \n",
    "\n",
    "n number of for loops inside a single for loop\n"
   ]
  },
  {
   "cell_type": "markdown",
   "id": "a251ae66",
   "metadata": {},
   "source": [
    "print asterisk pattern like a right angle triangle "
   ]
  },
  {
   "cell_type": "code",
   "execution_count": 12,
   "id": "ac162744",
   "metadata": {},
   "outputs": [
    {
     "name": "stdout",
     "output_type": "stream",
     "text": [
      "*\n",
      "**\n",
      "***\n",
      "****\n",
      "*****\n"
     ]
    }
   ],
   "source": [
    "n= int(input(\"enter your number of rows\"))\n",
    "for i in range(1,n+1):\n",
    "    for j in range (1,i+1):\n",
    "        print(\"*\",end=\"\")\n",
    "    print()"
   ]
  },
  {
   "cell_type": "markdown",
   "id": "fa01d690",
   "metadata": {},
   "source": [
    "print inverted triangle of 1234"
   ]
  },
  {
   "cell_type": "code",
   "execution_count": 28,
   "id": "99199521",
   "metadata": {},
   "outputs": [
    {
     "name": "stdout",
     "output_type": "stream",
     "text": [
      "012\n",
      "01\n",
      "0\n"
     ]
    }
   ],
   "source": [
    "n=int(input(\"enter your number :\"))\n",
    "for i in range (n,0,-1):\n",
    "    for j in range (n-1,1):\n",
    "        print(\" \",end=\" \")\n",
    "    for j in range (0,i):\n",
    "            print(j,end=\"\")\n",
    "    print()\n"
   ]
  },
  {
   "cell_type": "markdown",
   "id": "b0c5d2e0",
   "metadata": {},
   "source": [
    "print a normal triangle of 1234"
   ]
  },
  {
   "cell_type": "code",
   "execution_count": null,
   "id": "8abdf00c",
   "metadata": {},
   "outputs": [
    {
     "name": "stdout",
     "output_type": "stream",
     "text": [
      "0 \n",
      "01 \n",
      "012 \n",
      "0123 \n"
     ]
    }
   ],
   "source": [
    "n=int(input(\"enter the number of rows\"))\n",
    "for i in range (1,n):\n",
    "    for j in range(0,n-i):\n",
    "        print(end=\"\")\n",
    "    for j in range (0,i):\n",
    "        print(j,end=\"\")\n",
    "    print()"
   ]
  },
  {
   "cell_type": "markdown",
   "id": "c7425e5e",
   "metadata": {},
   "source": [
    "unconditional control structure\n",
    "\n",
    "break \n",
    "continue \n",
    "pass"
   ]
  },
  {
   "cell_type": "markdown",
   "id": "9ccc152f",
   "metadata": {},
   "source": [
    "example of break"
   ]
  },
  {
   "cell_type": "markdown",
   "id": "6a64db3d",
   "metadata": {},
   "source": [
    "print from 1 to 10 but till 5"
   ]
  },
  {
   "cell_type": "code",
   "execution_count": 36,
   "id": "3bc9da52",
   "metadata": {},
   "outputs": [
    {
     "name": "stdout",
     "output_type": "stream",
     "text": [
      "1\n",
      "2\n",
      "3\n",
      "4\n",
      "5\n"
     ]
    }
   ],
   "source": [
    "for i in range (1,11):\n",
    "    print(i)\n",
    "    if i %5==0:\n",
    "        break\n"
   ]
  },
  {
   "cell_type": "markdown",
   "id": "6a31bb58",
   "metadata": {},
   "source": [
    "print odd numbers"
   ]
  },
  {
   "cell_type": "code",
   "execution_count": 38,
   "id": "a7663bb6",
   "metadata": {},
   "outputs": [
    {
     "name": "stdout",
     "output_type": "stream",
     "text": [
      "1\n",
      "3\n",
      "5\n",
      "7\n",
      "9\n"
     ]
    }
   ],
   "source": [
    "for i in range(1,11):\n",
    "    if i%2==0:\n",
    "        continue\n",
    "    print(i)"
   ]
  },
  {
   "cell_type": "code",
   "execution_count": null,
   "id": "9d27d435",
   "metadata": {},
   "outputs": [],
   "source": [
    "example of pass statement\n"
   ]
  },
  {
   "cell_type": "code",
   "execution_count": 39,
   "id": "152f8d59",
   "metadata": {},
   "outputs": [
    {
     "name": "stdout",
     "output_type": "stream",
     "text": [
      "1\n",
      "2\n",
      "3\n",
      "4\n",
      "5\n",
      "6\n",
      "7\n",
      "8\n",
      "9\n",
      "10\n"
     ]
    }
   ],
   "source": [
    "for i in range(1,11):\n",
    "    if i%2==0:\n",
    "        pass\n",
    "    print(i)"
   ]
  },
  {
   "cell_type": "markdown",
   "id": "b0427aa3",
   "metadata": {},
   "source": [
    "write a program to check whether a number is prime or not"
   ]
  },
  {
   "cell_type": "code",
   "execution_count": 42,
   "id": "a38f883f",
   "metadata": {},
   "outputs": [
    {
     "name": "stdout",
     "output_type": "stream",
     "text": [
      "the number is a prime number\n"
     ]
    }
   ],
   "source": [
    "a=int(input(\"enter your number to be checked :\"))\n",
    "count=0\n",
    "for i in range(2,a):\n",
    "    if a%i==0:\n",
    "        count =1\n",
    "        break\n",
    "if count==1:\n",
    "    print(\"the number is not a prime number\")\n",
    "else:\n",
    "    print(\"the number is a prime number\")"
   ]
  },
  {
   "cell_type": "markdown",
   "id": "1abac0f5",
   "metadata": {},
   "source": [
    "find a letter if its a vowel or a consonant"
   ]
  },
  {
   "cell_type": "code",
   "execution_count": null,
   "id": "3ed56aff",
   "metadata": {},
   "outputs": [],
   "source": [
    "vowels=\"AEIOUaeiou\"\n",
    "while True :\n",
    "    V = input(\"enter a letter :\")\n",
    "if V in vowels:\n",
    "    print(V,\"is a vowel\")\n",
    "    break\n",
    "print(V,\"is not  a vowel, try another letter\")\n",
    "print(\"end of program\")"
   ]
  }
 ],
 "metadata": {
  "kernelspec": {
   "display_name": "Python 3",
   "language": "python",
   "name": "python3"
  },
  "language_info": {
   "codemirror_mode": {
    "name": "ipython",
    "version": 3
   },
   "file_extension": ".py",
   "mimetype": "text/x-python",
   "name": "python",
   "nbconvert_exporter": "python",
   "pygments_lexer": "ipython3",
   "version": "3.12.6"
  }
 },
 "nbformat": 4,
 "nbformat_minor": 5
}
