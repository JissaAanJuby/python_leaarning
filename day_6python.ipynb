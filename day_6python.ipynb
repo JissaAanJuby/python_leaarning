{
 "cells": [
  {
   "cell_type": "markdown",
   "id": "ffd52e46",
   "metadata": {},
   "source": [
    "reverse of a number"
   ]
  },
  {
   "cell_type": "code",
   "execution_count": null,
   "id": "6e844a7f",
   "metadata": {
    "vscode": {
     "languageId": "plaintext"
    }
   },
   "outputs": [],
   "source": [
    "n=int(input(\"enter your number:\"))\n",
    "rev=0\n"
   ]
  }
 ],
 "metadata": {
  "language_info": {
   "name": "python"
  }
 },
 "nbformat": 4,
 "nbformat_minor": 5
}
